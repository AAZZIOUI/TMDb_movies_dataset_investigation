{
 "cells": [
  {
   "cell_type": "markdown",
   "metadata": {},
   "source": [
    "# Project: TMDb movie dataset under investigation\n",
    "\n",
    "## Table of Contents\n",
    "<ul>\n",
    "<li><a href=\"#intro\">Introduction</a></li>\n",
    "<li><a href=\"#wrangling\">Data Wrangling</a></li>\n",
    "<li><a href=\"#eda\">Exploratory Data Analysis</a></li>\n",
    "<li><a href=\"#conclusions\">Conclusions</a></li>\n",
    "</ul>"
   ]
  },
  {
   "cell_type": "markdown",
   "metadata": {},
   "source": [
    "<a id='intro'></a>\n",
    "## Introduction\n",
    "### Overview\n",
    "\n",
    "In order to complete my first project of the data analyst nanodegree program at Udacity, I had to choose 1 from 5 datasets that you can find in <a href=\"https://docs.google.com/document/d/e/2PACX-1vTlVmknRRnfy_4eTrjw5hYGaiQim5ctr9naaRd4V9du2B5bxpd8FEH3KtDgp8qVekw7Cj1GLk1IXdZi/pub\">here</a>. Once I opened the first dataset, which is related to \"TMDb movie data\", I got interested to know more about: \n",
    "\n",
    "<ol>\n",
    "    <li>What kinds of properties are associated with movies with high profitability?</li>\n",
    "    <li>What are the caracteristics that influence the votes on movies?</li>\n",
    "    <li>Who are top 10 actors/actrices in terms of number of appearances in the profitable movies ? </li>\n",
    "    <li>Who are the top 5 directors of profitable movies ?  </li>\n",
    "    <li>Which genres are most popular among profitable movies? </li>\n",
    "    <li>Which production companies are associated with movies that have high profitability?</li>\n",
    "</ol>\n",
    "\n",
    "So I decided to work using this dataset in order to fulfill my curiosity. In fact, in the following sections, we will be trying to answer the above questions. However, after scrolling a bit in the csv file, I noticed some missing data, and columns with many inputs separated by the symbol \"|\". So, obviously the data needs some assessment and cleaning before deeply exploring it in order to get some reliable findings.\n",
    "\n"
   ]
  },
  {
   "cell_type": "markdown",
   "metadata": {},
   "source": [
    "\n",
    "### Project requirements\n",
    "\n",
    "I worked this project using python 3.6 in an anaconda3 environment with the help of libararies such as Pandas, Numpy and Matplotlib."
   ]
  },
  {
   "cell_type": "code",
   "execution_count": null,
   "metadata": {
    "collapsed": true
   },
   "outputs": [],
   "source": [
    "# import needed packages\n",
    "\n",
    "import pandas as pd\n",
    "import numpy as np\n",
    "from datetime import datetime as dt\n",
    "import matplotlib.pyplot as plt\n",
    "#import seaborn as sns\n",
    "%matplotlib inline  \n"
   ]
  },
  {
   "cell_type": "markdown",
   "metadata": {},
   "source": [
    "<a id='wrangling'></a>\n",
    "## Data Wrangling\n",
    "\n",
    "> In this section of the report, I will load in the data, check for cleanliness, and then trim and clean the dataset for analysis. I will make sure that I document all the steps carefully and justify any cleaning decisions.\n",
    "\n",
    "### General Properties"
   ]
  },
  {
   "cell_type": "code",
   "execution_count": null,
   "metadata": {
    "collapsed": true
   },
   "outputs": [],
   "source": [
    "# Load your data and print out a few lines. Perform operations to inspect data\n",
    "movies_df = pd.read_csv('1_project1_data/Movie_Data/tmdb-movies.csv')\n",
    "# display first five rows of data\n",
    "movies_df.head()"
   ]
  },
  {
   "cell_type": "code",
   "execution_count": null,
   "metadata": {},
   "outputs": [],
   "source": [
    "# display last two rows of data\n",
    "movies_df.tail(2)"
   ]
  },
  {
   "cell_type": "markdown",
   "metadata": {},
   "source": [
    "It seems we have: \n",
    "- A dataset of 21 columns with a header that contains labels.\n",
    "- Certain columns, like ‘cast’, ‘genres’ and ‘production_companies’  contain multiple values separated by pipe (|) characters.\n",
    "- There are some odd characters in the ‘cast’ column that we can leave as is.\n",
    "- The final two columns ending with “_adj” show the budget and revenue of the associated movie in terms of 2010 dollars, accounting for inflation over time. This might help for instance to figure out how much money was spent on successful old movies  compared to the new ones.\n",
    "- Some movies have budget and revenue of 0$."
   ]
  },
  {
   "cell_type": "code",
   "execution_count": null,
   "metadata": {},
   "outputs": [],
   "source": [
    "# this returns a tuple of the dimensions of the dataframe\n",
    "movies_df.shape"
   ]
  },
  {
   "cell_type": "markdown",
   "metadata": {},
   "source": [
    "The data is 10866 rows (header excluded) and 21 columns"
   ]
  },
  {
   "cell_type": "code",
   "execution_count": null,
   "metadata": {},
   "outputs": [],
   "source": [
    "# this displays a concise summary of the dataframe,\n",
    "# including the number of non-null values in each column\n",
    "movies_df.info()"
   ]
  },
  {
   "cell_type": "markdown",
   "metadata": {},
   "source": [
    "Based on the datatypes displayed, I noticed that:\n",
    "<ol>\n",
    "    <li>\"release_date\" is currently an object while it should be a datetime</li>\n",
    "    <li>\"budget_adj\" and \"revenue_adj\" are both float and it would be better and easily readable if they were integers as the \"budget\" and \"revenue\" columns</li>\n",
    "</ol>\n",
    "\n",
    "Also, it seems that some columns are not relevant to answer our questions such as \"id\", \"imdb_id\", \"homepage\", \"tagline\", \"overview\",  and \"keyword\" and we can get rid of them.\n",
    "There are some cells that are Null in many columns and this needs more investigation to determine the significance of keeping or deleting them."
   ]
  },
  {
   "cell_type": "code",
   "execution_count": null,
   "metadata": {},
   "outputs": [],
   "source": [
    "# this returns useful descriptive statistics for each column of data\n",
    "movies_df.describe()"
   ]
  },
  {
   "cell_type": "code",
   "execution_count": null,
   "metadata": {},
   "outputs": [],
   "source": [
    "# check for duplicates in the data\n",
    "sum(movies_df.duplicated())"
   ]
  },
  {
   "cell_type": "markdown",
   "metadata": {},
   "source": [
    "This function suggests that there is 1 duplicated row in the dataset that we need to delete before proceeding in our analysis."
   ]
  },
  {
   "cell_type": "code",
   "execution_count": null,
   "metadata": {},
   "outputs": [],
   "source": [
    "# this returns the number of unique values in each column\n",
    "movies_df.nunique()"
   ]
  },
  {
   "cell_type": "markdown",
   "metadata": {},
   "source": [
    "### Data Cleaning"
   ]
  },
  {
   "cell_type": "markdown",
   "metadata": {},
   "source": [
    "After observing data using different pandas functions, it's time to start data cleaning in order to be able to investigate data without any problems. To do that, we are going to:\n",
    "\n",
    "**1. Remove unused columns as mentioned above (\"id\", \"imdb_id\", \"homepage\", \"tagline\", \"overview\",  and \"keyword\"):**"
   ]
  },
  {
   "cell_type": "code",
   "execution_count": null,
   "metadata": {},
   "outputs": [],
   "source": [
    "# Function to drop the specified columns of first row (axis=1) and keep the changes (inplace=True)\n",
    "movies_df.drop(['id','imdb_id','homepage','tagline','overview','keywords'], axis=1 , inplace=True)\n",
    "movies_df.head()"
   ]
  },
  {
   "cell_type": "code",
   "execution_count": null,
   "metadata": {},
   "outputs": [],
   "source": [
    "movies_df.shape"
   ]
  },
  {
   "cell_type": "markdown",
   "metadata": {},
   "source": [
    "Now we have only 15 columns instead of 21 previously."
   ]
  },
  {
   "cell_type": "markdown",
   "metadata": {},
   "source": [
    "**2. Remove the dupicated row:**"
   ]
  },
  {
   "cell_type": "code",
   "execution_count": null,
   "metadata": {},
   "outputs": [],
   "source": [
    "movies_df.drop_duplicates()"
   ]
  },
  {
   "cell_type": "markdown",
   "metadata": {},
   "source": [
    "Now we have 10865 rows instead of 10866"
   ]
  },
  {
   "cell_type": "markdown",
   "metadata": {},
   "source": [
    "**3. Remove all the movies that have a \"budget\" or \"revenue\" of 0$ since these are movies with important missing data to calculate profitability.**\n"
   ]
  },
  {
   "cell_type": "code",
   "execution_count": null,
   "metadata": {},
   "outputs": [],
   "source": [
    "# To do that, we are going to replace all values equal to 0 in both columns with NA, and then use the function dropna:\n",
    "# The following takes a dataframe and replace every 0 with NA\n",
    "#\n",
    "null_profit=['budget','revenue']\n",
    "movies_df[null_profit]=movies_df[null_profit].replace(0,pd.NA)\n"
   ]
  },
  {
   "cell_type": "code",
   "execution_count": null,
   "metadata": {},
   "outputs": [],
   "source": [
    "movies_df.tail()"
   ]
  },
  {
   "cell_type": "code",
   "execution_count": null,
   "metadata": {},
   "outputs": [],
   "source": [
    "# Now let's use the prebuilt function dropna() in order to delete all rows that contain NA in one of \n",
    "# the 'budget' or 'revenue' columns.\n",
    "\n",
    "movies_df.dropna(subset = null_profit, inplace = True)"
   ]
  },
  {
   "cell_type": "code",
   "execution_count": null,
   "metadata": {},
   "outputs": [],
   "source": [
    "movies_df.shape"
   ]
  },
  {
   "cell_type": "markdown",
   "metadata": {},
   "source": [
    "Now we have 3855 rows (movies) left and 15 columns"
   ]
  },
  {
   "cell_type": "code",
   "execution_count": null,
   "metadata": {},
   "outputs": [],
   "source": [
    "movies_df.describe()"
   ]
  },
  {
   "cell_type": "markdown",
   "metadata": {},
   "source": [
    "**4. Replace 0 runtime of some movies with NA, in order to calculate the real mean value while studying characteristics of profitable movies.**\n",
    "\n",
    "After removing all the movies with missing budget data, also, all movies with runtime of 0 minutes were removed. so we don't need any further operation on that matter."
   ]
  },
  {
   "cell_type": "markdown",
   "metadata": {},
   "source": [
    "**5. convert release_date type into datetime instead of object.**\n"
   ]
  },
  {
   "cell_type": "code",
   "execution_count": null,
   "metadata": {},
   "outputs": [],
   "source": [
    "# Use pandas.to_datetime() to convert string to datetime format\n",
    "# source of inspiration: https://sparkbyexamples.com/pandas/pandas-change-string-object-to-date-in-dataframe/\n",
    "movies_df.release_date = pd.to_datetime(movies_df['release_date'])\n",
    "movies_df.info()"
   ]
  },
  {
   "cell_type": "markdown",
   "metadata": {},
   "source": [
    "**6. Convert 'budget_adj' and 'revenue_adj' types into integer since knowing about the value of cents is not really relevent in our study:**"
   ]
  },
  {
   "cell_type": "code",
   "execution_count": null,
   "metadata": {},
   "outputs": [],
   "source": [
    "# source of inspiration: https://www.geeksforgeeks.org/convert-floats-to-integers-in-a-pandas-dataframe/\n",
    "\n",
    "movies_df=movies_df.astype({'budget':'int','revenue':'int','budget_adj':'int','revenue_adj':'int'})"
   ]
  },
  {
   "cell_type": "code",
   "execution_count": null,
   "metadata": {},
   "outputs": [],
   "source": [
    "movies_df.dtypes"
   ]
  },
  {
   "cell_type": "markdown",
   "metadata": {},
   "source": [
    "**7. We check if we don't have any null values in each column**"
   ]
  },
  {
   "cell_type": "code",
   "execution_count": null,
   "metadata": {},
   "outputs": [],
   "source": [
    "# Let's check total of non-null values for each column\n",
    "movies_df.notna().sum()"
   ]
  },
  {
   "cell_type": "markdown",
   "metadata": {},
   "source": [
    "It seems there are still missing data in the following columns:\n",
    "\n",
    "    - cast  3851/3855 (4 movies with missing cast)\n",
    "\n",
    "    - director  3854/3855 (1 movie with missing director)\n",
    "    \n",
    "    - production_companies  3809/3855 (46 movies with missing production_companies)\n",
    "\n",
    "Let's eliminate all these movies with missing data from our analysis "
   ]
  },
  {
   "cell_type": "code",
   "execution_count": null,
   "metadata": {},
   "outputs": [],
   "source": [
    "# Now let's use the prebuilt function dropna() in order to delete all rows that contain NA in one of \n",
    "# the 'cast', 'director' or 'production_companies' columns.\n",
    "# source of inspiration is the official documentation\n",
    "\n",
    "null_staff=['cast','director','production_companies']\n",
    "\n",
    "movies_df.dropna(subset = null_staff, inplace = True)"
   ]
  },
  {
   "cell_type": "code",
   "execution_count": null,
   "metadata": {},
   "outputs": [],
   "source": [
    "# Total of non-null values for each column\n",
    "movies_df.notna().sum()"
   ]
  },
  {
   "cell_type": "markdown",
   "metadata": {},
   "source": [
    "Now all the remaining 15 columns have 3806 input without any null values."
   ]
  },
  {
   "cell_type": "code",
   "execution_count": null,
   "metadata": {},
   "outputs": [],
   "source": [
    "movies_df.head()"
   ]
  },
  {
   "cell_type": "code",
   "execution_count": null,
   "metadata": {},
   "outputs": [],
   "source": [
    "movies_df.describe()"
   ]
  },
  {
   "cell_type": "markdown",
   "metadata": {},
   "source": [
    "Now I am satisfied with the cleaned dataset, so it is time to start exploring it."
   ]
  },
  {
   "cell_type": "markdown",
   "metadata": {},
   "source": [
    "<a id='eda'></a>\n",
    "## Exploratory Data Analysis\n",
    "\n",
    "Disclaimer:  This project is open-ended in that there is not one right answer and the following findings are tentative.We are not required to use inferential statistics or machine learning to complete it.\n",
    "\n",
    "Now let's start finding some real insights about the chosen dataset:\n",
    "\n",
    "### Research Question 1: What kinds of properties are associated with movies with high profitability?"
   ]
  },
  {
   "cell_type": "markdown",
   "metadata": {},
   "source": [
    "Let's consider that:\n",
    "\n",
    "    - Best profitable movies: are movies which have a revenue equal or greater than the double of the budget.\n",
    "        e.g. budget=1000 then revenue=>2000\n",
    "    - Average profitable movies: are movies which have a revenue less than the double of the budget and greater or equal to 150% of the budget.\n",
    "        e.g. budget=1000 then 1500<=revenue<2000\n",
    "    - Worst profitable movies: are movies which have a revenue less than 150% of the budget.\n",
    "        e.g. budget=1000 then revenue<1500\n",
    "\n",
    "These are the 3 categories we are going to study during our analysis to answer the current main question."
   ]
  },
  {
   "cell_type": "markdown",
   "metadata": {},
   "source": [
    "   **a. Which movies are best, average or worst in terms of profitablity?**\n",
    "    \n",
    "    For that, let's create a new column called 'profitability' in which we label each movie with (best,average or worst) according to the above definitions."
   ]
  },
  {
   "cell_type": "code",
   "execution_count": null,
   "metadata": {},
   "outputs": [],
   "source": [
    "# Below, we create a new column called \"profitability\" in which we put one of the 3 possible inputs \n",
    "# (\"best\", \"worst\" or \"average\") depending on the comparison between \"budget\" and \"revenue\" values of the same row \n",
    "# and according to the profitability explination above.\n",
    "# inspired from: https://stackoverflow.com/questions/66722004/using-pandas-lambda-to-compare-two-text-strings-from-different-columns\n",
    "\n",
    "movies_df['profitability']=movies_df[['budget','revenue']].apply(lambda x: \"best\" if x.revenue>=x.budget*2 else (\"worst\" if x.revenue < x.budget * 1.5 else \"average\"), axis=1)"
   ]
  },
  {
   "cell_type": "code",
   "execution_count": null,
   "metadata": {},
   "outputs": [],
   "source": [
    "movies_df.shape"
   ]
  },
  {
   "cell_type": "markdown",
   "metadata": {},
   "source": [
    "Now we have a new column called profitability."
   ]
  },
  {
   "cell_type": "code",
   "execution_count": 452,
   "metadata": {},
   "outputs": [
    {
     "data": {
      "text/plain": [
       "best       2013\n",
       "worst      1450\n",
       "average     343\n",
       "Name: profitability, dtype: int64"
      ]
     },
     "execution_count": 452,
     "metadata": {},
     "output_type": "execute_result"
    }
   ],
   "source": [
    "movies_df.profitability.value_counts()\n"
   ]
  },
  {
   "cell_type": "markdown",
   "metadata": {},
   "source": [
    "This new column shows us that in terms of profitabily, we have:\n",
    "\n",
    "2013 movies are in the \"best\" profitable category\n",
    "343 movies are in the \"average\" category, and       \n",
    "1450 movies are in the \"worst\" category.\n",
    "\n",
    "Now let's study each category apart, with a main focus on the best category of profitable movies:\n",
    "\n",
    "**b. What are the caracteristics of MOVIES for each profitability category**\n",
    "\n",
    "   **b.1: what is the mean runtime?**"
   ]
  },
  {
   "cell_type": "code",
   "execution_count": 453,
   "metadata": {},
   "outputs": [
    {
     "data": {
      "text/plain": [
       "profitability\n",
       "average    111.868805\n",
       "best       110.125186\n",
       "worst      107.668966\n",
       "Name: runtime, dtype: float64"
      ]
     },
     "execution_count": 453,
     "metadata": {},
     "output_type": "execute_result"
    }
   ],
   "source": [
    "# We calculate the mean runtime for each category (group) in profitability\n",
    "movies_df.groupby('profitability').runtime.mean()"
   ]
  },
  {
   "cell_type": "code",
   "execution_count": 454,
   "metadata": {},
   "outputs": [
    {
     "data": {
      "image/png": "[encoded data removed]",
      "text/plain": [
       "<Figure size 432x288 with 1 Axes>"
      ]
     },
     "metadata": {
      "needs_background": "light"
     },
     "output_type": "display_data"
    }
   ],
   "source": [
    "# Let's plot the results:\n",
    "movies_df.groupby('profitability').runtime.mean().plot(kind='bar');"
   ]
  },
  {
   "cell_type": "markdown",
   "metadata": {},
   "source": [
    "We notice that the runtime mean doesn't differ much between the 3 profitability categories of movies with:\n",
    "    - 110.125186 minutes is the mean runtime of best movies\n",
    "    - 111.868805 minutes is the mean runtime of average movies\n",
    "    - 107.668966 minutes is the mean runtime of worst movies\n",
    "\n",
    "**b.2. What are the distributions of the 3 categories in terms of years of release?**"
   ]
  },
  {
   "cell_type": "code",
   "execution_count": 495,
   "metadata": {},
   "outputs": [],
   "source": [
    "# the function below takes 8 arguments and plots a graph of evolution of:\n",
    "#  1- total number of movies since the 1960's up to 2015, and\n",
    "#  2- number of best,average and worst movies in terms of profitability in the same period\n",
    "# source of inspiration is the lesson 6 of the nanodegree: programming workflow for data analysis \n",
    "\n",
    "\n",
    "def plot_hist(arr0,arr1,arr2,arr3,label0,label1,label2,label3):\n",
    "    plt.plot(arr1,  color='g', label=label1);\n",
    "    plt.plot(arr2,  color='r', label=label2);\n",
    "    plt.plot(arr3,  color='b', label=label3);\n",
    "    plt.plot(arr0,  color='#000000', label=label0)\n",
    "    plt.legend()\n",
    "    plt.xlabel('Year of release', fontsize = 12)\n",
    "    plt.ylabel('Number of movies', fontsize = 12)\n",
    "    plt.title('Number of movies by profitability category from 1960 to 2015')\n",
    "    plt.grid(True)\n",
    "    plt.show()"
   ]
  },
  {
   "cell_type": "code",
   "execution_count": 456,
   "metadata": {},
   "outputs": [],
   "source": [
    "# create a dataframe for each profitability category\n",
    "movies_df_best=movies_df.query('profitability==\"best\"')\n",
    "movies_df_average=movies_df.query('profitability==\"average\"')\n",
    "movies_df_worst=movies_df.query('profitability==\"worst\"')"
   ]
  },
  {
   "cell_type": "code",
   "execution_count": 457,
   "metadata": {},
   "outputs": [],
   "source": [
    "# count the whole number of movies by years of release\n",
    "\n",
    "movies_in_years=movies_df.groupby('release_year')['profitability'].count();\n",
    "#print(movies_in_years)"
   ]
  },
  {
   "cell_type": "code",
   "execution_count": 458,
   "metadata": {},
   "outputs": [],
   "source": [
    "# count the number of movies labelled as best in terms of profitability by years of release\n",
    "best_in_years=movies_df_best.groupby('release_year')['profitability'].count();"
   ]
  },
  {
   "cell_type": "code",
   "execution_count": 460,
   "metadata": {},
   "outputs": [],
   "source": [
    "# count the number of movies labelled as average in terms of profitability by years of release\n",
    "\n",
    "average_in_years=movies_df_average.groupby('release_year')['profitability'].count();"
   ]
  },
  {
   "cell_type": "code",
   "execution_count": 459,
   "metadata": {},
   "outputs": [],
   "source": [
    "# count the number of movies labelled as worst in terms of profitability by years of release\n",
    "\n",
    "worst_in_years=movies_df_worst.groupby('release_year')['profitability'].count();"
   ]
  },
  {
   "cell_type": "code",
   "execution_count": 461,
   "metadata": {},
   "outputs": [],
   "source": [
    "# convert them back to dataframes\n",
    "movies_in_years=movies_in_years.to_frame()\n",
    "best_in_years=best_in_years.to_frame()\n",
    "worst_in_years=worst_in_years.to_frame()\n",
    "average_in_years=average_in_years.to_frame()"
   ]
  },
  {
   "cell_type": "code",
   "execution_count": 496,
   "metadata": {},
   "outputs": [
    {
     "data": {
      "image/png": "[encoded data removed]",
      "text/plain": [
       "<Figure size 432x288 with 1 Axes>"
      ]
     },
     "metadata": {
      "needs_background": "light"
     },
     "output_type": "display_data"
    }
   ],
   "source": [
    "# Here we use the function already defined in order to see the graph that progress of number of best,average and worst movies\n",
    "# during the period of time from 1960 to 2015:\n",
    "best=\"best\"\n",
    "average=\"average\"\n",
    "worst=\"worst\"\n",
    "all=\"total number of movies\"\n",
    "plot_hist(movies_in_years.profitability, best_in_years.profitability,average_in_years.profitability,worst_in_years.profitability,all,best,average,worst)"
   ]
  },
  {
   "cell_type": "markdown",
   "metadata": {},
   "source": [
    "Based on the dataset we have, It seems that the total number of movies has generally gone up, and also the number of best, average and worst movies in terms of profitability has done so. In few certain years, the number of average movies exceeded the number of best movies.\n",
    "\n",
    "Now let's see who were the directors in each category.\n",
    "\n",
    "   **b.3. Who were the directors of best movies?**"
   ]
  },
  {
   "cell_type": "code",
   "execution_count": 463,
   "metadata": {},
   "outputs": [
    {
     "name": "stdout",
     "output_type": "stream",
     "text": [
      "director\n",
      "Steven Spielberg                 25\n",
      "Clint Eastwood                   18\n",
      "Tim Burton                       12\n",
      "Woody Allen                      11\n",
      "Ron Howard                       10\n",
      "                                 ..\n",
      "Jonathan Frakes                   1\n",
      "Jonathan Kaplan                   1\n",
      "Chris Kentis                      1\n",
      "Chris Gorak                       1\n",
      "Aaron Seltzer|Jason Friedberg     1\n",
      "Name: profitability, Length: 1033, dtype: int64\n"
     ]
    }
   ],
   "source": [
    "# Count the number of best profitable movies directed by each director and sort them in a descending way\n",
    "best_movies_directors=movies_df_best.groupby('director')['profitability'].count().sort_values(ascending=False);\n",
    "print(best_movies_directors)"
   ]
  },
  {
   "cell_type": "code",
   "execution_count": 464,
   "metadata": {},
   "outputs": [
    {
     "data": {
      "image/png": "[encoded data removed]",
      "text/plain": [
       "<Figure size 432x288 with 1 Axes>"
      ]
     },
     "metadata": {
      "needs_background": "light"
     },
     "output_type": "display_data"
    }
   ],
   "source": [
    "# The following code plots only the number of best profitable movies directed by the first 5 directors in the list \n",
    "# inspiration source: https://stackoverflow.com/questions/37333165/plot-specific-rows-of-a-pandas-dataframe\n",
    "\n",
    "best_movies_directors.iloc[0:5].plot.barh(y='director');"
   ]
  },
  {
   "cell_type": "markdown",
   "metadata": {},
   "source": [
    "5 Directors who directed the highest number of best movies are:\n",
    "\n",
    "Steven Spielberg    25 movies\n",
    "\n",
    "Clint Eastwood      18 movies\n",
    "\n",
    "Tim Burton          12 movies\n",
    "\n",
    "Woody Allen         11 movies\n",
    "\n",
    "Ron Howard          10 movies\n",
    "\n",
    "It looks like if a movie is directed by one of these directors, the probability to have a highly profitable movie is high. But a more scientific methodology is required to confirm that."
   ]
  },
  {
   "cell_type": "markdown",
   "metadata": {},
   "source": [
    " **b.4. What are the most successful genres of best movies?**\n",
    "\n",
    "The column genre contains many genres separated by pipe \"|\" for each movie. So to answer this question, we need to find a solution to count each genre alone."
   ]
  },
  {
   "cell_type": "markdown",
   "metadata": {},
   "source": [
    "    Since not only the column \"genre\" that has this problem, but also \"cast\" and \"production_companies\", it will be wise to create a function that does the job for the 3 of them."
   ]
  },
  {
   "cell_type": "code",
   "execution_count": 430,
   "metadata": {},
   "outputs": [],
   "source": [
    "# This function takes the name of an existing column at \"movies_df_best\" dataframe as an arg\n",
    "# then access it  and concatenates all the values into a single string separated\n",
    "# with the same sep=\"|\", then puts everything in a series in order to be able to count how many times each value has been\n",
    "# repeated and return the result in a dataframe.\n",
    "\n",
    "def how_many(column,column_name):\n",
    "    column_data=movies_df_best[column].str.cat(sep='|')\n",
    "    column_data=pd.Series(column_data.split('|'))\n",
    "    count_repeated_data=column_data.value_counts(ascending = False)\n",
    "    count_series=count_repeated_data.rename(column_name)\n",
    "    count_df=count_series.to_frame()\n",
    "    return count_df"
   ]
  },
  {
   "cell_type": "code",
   "execution_count": 436,
   "metadata": {},
   "outputs": [
    {
     "name": "stdout",
     "output_type": "stream",
     "text": [
      "                 genres\n",
      "Drama               831\n",
      "Comedy              729\n",
      "Thriller            610\n",
      "Action              548\n",
      "Adventure           407\n",
      "Romance             345\n",
      "Crime               314\n",
      "Horror              276\n",
      "Science Fiction     264\n",
      "Family              251\n",
      "Fantasy             209\n",
      "Mystery             164\n",
      "Animation           119\n",
      "Music                73\n",
      "War                  62\n",
      "History              54\n",
      "Western              22\n",
      "Documentary          20\n",
      "TV Movie              1\n"
     ]
    }
   ],
   "source": [
    "print(how_many('genres',\"genres\"))"
   ]
  },
  {
   "cell_type": "code",
   "execution_count": 439,
   "metadata": {},
   "outputs": [],
   "source": [
    "# store the returned dataframe of the function for genres.\n",
    "df_best_genres=how_many('genres',\"genres\")"
   ]
  },
  {
   "cell_type": "code",
   "execution_count": 443,
   "metadata": {},
   "outputs": [
    {
     "data": {
      "image/png": "[encoded data removed]",
      "text/plain": [
       "<Figure size 432x288 with 1 Axes>"
      ]
     },
     "metadata": {
      "needs_background": "light"
     },
     "output_type": "display_data"
    }
   ],
   "source": [
    "# plot the results for the first 11 most popular genres\n",
    "df_best_genres.iloc[0:11].plot.bar(y='genres');"
   ]
  },
  {
   "cell_type": "markdown",
   "metadata": {},
   "source": [
    "10 most successful genres in best profitable movies are:\n",
    "\n",
    "Drama               831\n",
    "\n",
    "Comedy              729\n",
    "\n",
    "Thriller            610\n",
    "\n",
    "Action              548\n",
    "\n",
    "Adventure           407\n",
    "\n",
    "Romance             345\n",
    "\n",
    "Crime               314\n",
    "\n",
    "Horror              276\n",
    "\n",
    "Science Fiction     264\n",
    "\n",
    "Family              251"
   ]
  },
  {
   "cell_type": "markdown",
   "metadata": {},
   "source": [
    "**b.5. What are the most successful actors/actrices in terms of appearences in best profitable movies?**\n"
   ]
  },
  {
   "cell_type": "code",
   "execution_count": 444,
   "metadata": {},
   "outputs": [],
   "source": [
    "# store the returned dataframe of the function for cast.\n",
    "\n",
    "df_best_cast=how_many('cast',\"cast\")"
   ]
  },
  {
   "cell_type": "code",
   "execution_count": 445,
   "metadata": {},
   "outputs": [
    {
     "name": "stdout",
     "output_type": "stream",
     "text": [
      "                   cast\n",
      "Tom Cruise           29\n",
      "Tom Hanks            25\n",
      "Robert De Niro       25\n",
      "Brad Pitt            23\n",
      "Samuel L. Jackson    22\n",
      "...                 ...\n",
      "Sam Reid              1\n",
      "Shannon Woodward      1\n",
      "Rachael Markarian     1\n",
      "Mia Moretti           1\n",
      "Arthur O'Connell      1\n",
      "\n",
      "[4612 rows x 1 columns]\n"
     ]
    }
   ],
   "source": [
    "print(how_many('cast',\"cast\"))"
   ]
  },
  {
   "cell_type": "code",
   "execution_count": 447,
   "metadata": {},
   "outputs": [
    {
     "data": {
      "image/png": "[encoded data removed]",
      "text/plain": [
       "<Figure size 432x288 with 1 Axes>"
      ]
     },
     "metadata": {
      "needs_background": "light"
     },
     "output_type": "display_data"
    }
   ],
   "source": [
    "# plot the results for the first 11 most appearing actors/actrices in \"best\" movies\n",
    "\n",
    "df_best_cast.iloc[0:11].plot.barh(y='cast');"
   ]
  },
  {
   "cell_type": "markdown",
   "metadata": {},
   "source": [
    "5 most appearing Actors in successful profitable movies are:\n",
    "\n",
    "Tom Cruise           29 appearences in best movies\n",
    "\n",
    "Tom Hanks            25 appearences in best movies\n",
    "\n",
    "Robert De Niro       25 appearences in best movies\n",
    "\n",
    "Brad Pitt            23 appearences in best movies\n",
    "\n",
    "Samuel L. Jackson    22 appearences in best movies\n"
   ]
  },
  {
   "cell_type": "markdown",
   "metadata": {},
   "source": [
    "**b.6. What are the most successful production companies which produce best profitable movies?**\n"
   ]
  },
  {
   "cell_type": "code",
   "execution_count": 448,
   "metadata": {},
   "outputs": [],
   "source": [
    "# store the returned dataframe of the function for production companies.\n",
    "\n",
    "df_best_production_companies=how_many('production_companies',\"production_companies\")"
   ]
  },
  {
   "cell_type": "code",
   "execution_count": 449,
   "metadata": {},
   "outputs": [
    {
     "name": "stdout",
     "output_type": "stream",
     "text": [
      "                                        production_companies\n",
      "Universal Pictures                                       207\n",
      "Warner Bros.                                             172\n",
      "Paramount Pictures                                       163\n",
      "Twentieth Century Fox Film Corporation                   141\n",
      "Columbia Pictures                                        105\n",
      "...                                                      ...\n",
      "Raindog Films                                              1\n",
      "Catch 23 Entertainment                                     1\n",
      "Producers Circle                                           1\n",
      "Walt Disney Animation Canada                               1\n",
      "Chenault Productions                                       1\n",
      "\n",
      "[1887 rows x 1 columns]\n"
     ]
    }
   ],
   "source": [
    "print(how_many('production_companies','production_companies'))"
   ]
  },
  {
   "cell_type": "code",
   "execution_count": 450,
   "metadata": {},
   "outputs": [
    {
     "data": {
      "image/png": "[encoded data removed]",
      "text/plain": [
       "<Figure size 432x288 with 1 Axes>"
      ]
     },
     "metadata": {
      "needs_background": "light"
     },
     "output_type": "display_data"
    }
   ],
   "source": [
    "# plot the results for the best 11 production companies of \"best\" movies\n",
    "\n",
    "df_best_production_companies.iloc[0:11].plot.barh(y='production_companies');"
   ]
  },
  {
   "cell_type": "markdown",
   "metadata": {},
   "source": [
    "The 5 most successful production companies which produce best profitable movies are:\n",
    "\n",
    "Universal Pictures                        207 movies\n",
    "\n",
    "Warner Bros.                              172 movies\n",
    "\n",
    "Paramount Pictures                        163 movies\n",
    "\n",
    "Twentieth Century Fox Film Corporation    141 movies\n",
    "\n",
    "Columbia Pictures                         105 movies"
   ]
  },
  {
   "cell_type": "markdown",
   "metadata": {},
   "source": [
    "We have answered many questions, especially those which are related to the 'best' category. We can do the same for both other categories (average and worst) to find more insights about them.\n",
    "\n",
    "Now let's dive into another big question:"
   ]
  },
  {
   "cell_type": "markdown",
   "metadata": {},
   "source": [
    "### Research Question 2:  What are the caracteristics that influence the votes on movies?"
   ]
  },
  {
   "cell_type": "markdown",
   "metadata": {},
   "source": [
    "First, let's find out the following:\n",
    "\n",
    "**a. Are there any flagrant correlations related to the voting subject?**"
   ]
  },
  {
   "cell_type": "code",
   "execution_count": 465,
   "metadata": {},
   "outputs": [
    {
     "data": {
      "text/html": [
       "<div>\n",
       "<style scoped>\n",
       "    .dataframe tbody tr th:only-of-type {\n",
       "        vertical-align: middle;\n",
       "    }\n",
       "\n",
       "    .dataframe tbody tr th {\n",
       "        vertical-align: top;\n",
       "    }\n",
       "\n",
       "    .dataframe thead th {\n",
       "        text-align: right;\n",
       "    }\n",
       "</style>\n",
       "<table border=\"1\" class=\"dataframe\">\n",
       "  <thead>\n",
       "    <tr style=\"text-align: right;\">\n",
       "      <th></th>\n",
       "      <th>popularity</th>\n",
       "      <th>budget</th>\n",
       "      <th>revenue</th>\n",
       "      <th>runtime</th>\n",
       "      <th>vote_count</th>\n",
       "      <th>vote_average</th>\n",
       "      <th>release_year</th>\n",
       "      <th>budget_adj</th>\n",
       "      <th>revenue_adj</th>\n",
       "    </tr>\n",
       "  </thead>\n",
       "  <tbody>\n",
       "    <tr>\n",
       "      <th>popularity</th>\n",
       "      <td>1.000000</td>\n",
       "      <td>0.443634</td>\n",
       "      <td>0.613815</td>\n",
       "      <td>0.213758</td>\n",
       "      <td>0.779136</td>\n",
       "      <td>0.319987</td>\n",
       "      <td>0.175890</td>\n",
       "      <td>0.395351</td>\n",
       "      <td>0.544789</td>\n",
       "    </tr>\n",
       "    <tr>\n",
       "      <th>budget</th>\n",
       "      <td>0.443634</td>\n",
       "      <td>1.000000</td>\n",
       "      <td>0.687051</td>\n",
       "      <td>0.259577</td>\n",
       "      <td>0.554692</td>\n",
       "      <td>0.023008</td>\n",
       "      <td>0.271856</td>\n",
       "      <td>0.958233</td>\n",
       "      <td>0.530940</td>\n",
       "    </tr>\n",
       "    <tr>\n",
       "      <th>revenue</th>\n",
       "      <td>0.613815</td>\n",
       "      <td>0.687051</td>\n",
       "      <td>1.000000</td>\n",
       "      <td>0.249281</td>\n",
       "      <td>0.753591</td>\n",
       "      <td>0.228211</td>\n",
       "      <td>0.141175</td>\n",
       "      <td>0.655883</td>\n",
       "      <td>0.900459</td>\n",
       "    </tr>\n",
       "    <tr>\n",
       "      <th>runtime</th>\n",
       "      <td>0.213758</td>\n",
       "      <td>0.259577</td>\n",
       "      <td>0.249281</td>\n",
       "      <td>1.000000</td>\n",
       "      <td>0.273538</td>\n",
       "      <td>0.359373</td>\n",
       "      <td>-0.113646</td>\n",
       "      <td>0.333490</td>\n",
       "      <td>0.279836</td>\n",
       "    </tr>\n",
       "    <tr>\n",
       "      <th>vote_count</th>\n",
       "      <td>0.779136</td>\n",
       "      <td>0.554692</td>\n",
       "      <td>0.753591</td>\n",
       "      <td>0.273538</td>\n",
       "      <td>1.000000</td>\n",
       "      <td>0.389916</td>\n",
       "      <td>0.209568</td>\n",
       "      <td>0.495228</td>\n",
       "      <td>0.653228</td>\n",
       "    </tr>\n",
       "    <tr>\n",
       "      <th>vote_average</th>\n",
       "      <td>0.319987</td>\n",
       "      <td>0.023008</td>\n",
       "      <td>0.228211</td>\n",
       "      <td>0.359373</td>\n",
       "      <td>0.389916</td>\n",
       "      <td>1.000000</td>\n",
       "      <td>-0.135897</td>\n",
       "      <td>0.035915</td>\n",
       "      <td>0.268383</td>\n",
       "    </tr>\n",
       "    <tr>\n",
       "      <th>release_year</th>\n",
       "      <td>0.175890</td>\n",
       "      <td>0.271856</td>\n",
       "      <td>0.141175</td>\n",
       "      <td>-0.113646</td>\n",
       "      <td>0.209568</td>\n",
       "      <td>-0.135897</td>\n",
       "      <td>1.000000</td>\n",
       "      <td>0.078304</td>\n",
       "      <td>-0.102046</td>\n",
       "    </tr>\n",
       "    <tr>\n",
       "      <th>budget_adj</th>\n",
       "      <td>0.395351</td>\n",
       "      <td>0.958233</td>\n",
       "      <td>0.655883</td>\n",
       "      <td>0.333490</td>\n",
       "      <td>0.495228</td>\n",
       "      <td>0.035915</td>\n",
       "      <td>0.078304</td>\n",
       "      <td>1.000000</td>\n",
       "      <td>0.567999</td>\n",
       "    </tr>\n",
       "    <tr>\n",
       "      <th>revenue_adj</th>\n",
       "      <td>0.544789</td>\n",
       "      <td>0.530940</td>\n",
       "      <td>0.900459</td>\n",
       "      <td>0.279836</td>\n",
       "      <td>0.653228</td>\n",
       "      <td>0.268383</td>\n",
       "      <td>-0.102046</td>\n",
       "      <td>0.567999</td>\n",
       "      <td>1.000000</td>\n",
       "    </tr>\n",
       "  </tbody>\n",
       "</table>\n",
       "</div>"
      ],
      "text/plain": [
       "              popularity    budget   revenue   runtime  vote_count  \\\n",
       "popularity      1.000000  0.443634  0.613815  0.213758    0.779136   \n",
       "budget          0.443634  1.000000  0.687051  0.259577    0.554692   \n",
       "revenue         0.613815  0.687051  1.000000  0.249281    0.753591   \n",
       "runtime         0.213758  0.259577  0.249281  1.000000    0.273538   \n",
       "vote_count      0.779136  0.554692  0.753591  0.273538    1.000000   \n",
       "vote_average    0.319987  0.023008  0.228211  0.359373    0.389916   \n",
       "release_year    0.175890  0.271856  0.141175 -0.113646    0.209568   \n",
       "budget_adj      0.395351  0.958233  0.655883  0.333490    0.495228   \n",
       "revenue_adj     0.544789  0.530940  0.900459  0.279836    0.653228   \n",
       "\n",
       "              vote_average  release_year  budget_adj  revenue_adj  \n",
       "popularity        0.319987      0.175890    0.395351     0.544789  \n",
       "budget            0.023008      0.271856    0.958233     0.530940  \n",
       "revenue           0.228211      0.141175    0.655883     0.900459  \n",
       "runtime           0.359373     -0.113646    0.333490     0.279836  \n",
       "vote_count        0.389916      0.209568    0.495228     0.653228  \n",
       "vote_average      1.000000     -0.135897    0.035915     0.268383  \n",
       "release_year     -0.135897      1.000000    0.078304    -0.102046  \n",
       "budget_adj        0.035915      0.078304    1.000000     0.567999  \n",
       "revenue_adj       0.268383     -0.102046    0.567999     1.000000  "
      ]
     },
     "execution_count": 465,
     "metadata": {},
     "output_type": "execute_result"
    }
   ],
   "source": [
    "# display a table of correlations\n",
    "movies_df.corr()"
   ]
  },
  {
   "cell_type": "markdown",
   "metadata": {},
   "source": [
    "It seems like if there might be a relationship between:\n",
    "\n",
    "- 'popularity' and 'vote_count' with a correlation number = 0.779136\n",
    "\n",
    "- 'revenue' and  'vote_count' with a correlation number = 0.753591\n"
   ]
  },
  {
   "cell_type": "code",
   "execution_count": null,
   "metadata": {},
   "outputs": [],
   "source": [
    "# get quick insights about relationships between numerical variables in movies_df\n",
    "pd.plotting.scatter_matrix(movies_df,figsize=(15,15));"
   ]
  },
  {
   "cell_type": "markdown",
   "metadata": {},
   "source": [
    "**b. How popular are movies with the highest vote counts?** "
   ]
  },
  {
   "cell_type": "code",
   "execution_count": 514,
   "metadata": {},
   "outputs": [
    {
     "data": {
      "image/png": "[encoded data removed]",
      "text/plain": [
       "<Figure size 432x288 with 1 Axes>"
      ]
     },
     "metadata": {
      "needs_background": "light"
     },
     "output_type": "display_data"
    }
   ],
   "source": [
    "# plots values according to popularity and vote counts of movies\n",
    "movies_df.plot(x='vote_count', y='popularity', kind='scatter');"
   ]
  },
  {
   "cell_type": "markdown",
   "metadata": {},
   "source": [
    "**c. How popular are movies with the highest vote average?** "
   ]
  },
  {
   "cell_type": "code",
   "execution_count": 512,
   "metadata": {},
   "outputs": [
    {
     "data": {
      "image/png": "[encoded data removed]",
      "text/plain": [
       "<Figure size 432x288 with 1 Axes>"
      ]
     },
     "metadata": {
      "needs_background": "light"
     },
     "output_type": "display_data"
    }
   ],
   "source": [
    "# plots values according to popularity and vote average of movies\n",
    "\n",
    "movies_df.plot(x='vote_average', y='popularity', kind='scatter');"
   ]
  },
  {
   "cell_type": "markdown",
   "metadata": {},
   "source": [
    "It seems there are some movies with really good vote_average but they are not so popular, and others with medium vote average with better popularity."
   ]
  },
  {
   "cell_type": "markdown",
   "metadata": {},
   "source": [
    "**d. How does the vote counts is related to the revenue of a movie?**"
   ]
  },
  {
   "cell_type": "code",
   "execution_count": 515,
   "metadata": {},
   "outputs": [
    {
     "data": {
      "image/png": "[encoded data removed]",
      "text/plain": [
       "<Figure size 432x288 with 1 Axes>"
      ]
     },
     "metadata": {
      "needs_background": "light"
     },
     "output_type": "display_data"
    }
   ],
   "source": [
    "# plots values according to popularity and vote average of movies\n",
    "\n",
    "movies_df.plot(x='revenue', y='vote_count', kind='scatter');"
   ]
  },
  {
   "cell_type": "markdown",
   "metadata": {},
   "source": [
    "Although it is true for a lot of movies, but we can't say that there is a general tendency for movies to have better revenue when they get more vote counts because a lot of exceptions exist. "
   ]
  },
  {
   "cell_type": "markdown",
   "metadata": {},
   "source": [
    "**e. What are the months of releases that generate the most vote counts?**"
   ]
  },
  {
   "cell_type": "code",
   "execution_count": 476,
   "metadata": {},
   "outputs": [],
   "source": [
    "#Creates a new column called 'month' which contains only month of release of the movies\n",
    "movies_df['month'] = pd.to_datetime(movies_df['release_date']).dt.month"
   ]
  },
  {
   "cell_type": "code",
   "execution_count": 469,
   "metadata": {},
   "outputs": [
    {
     "data": {
      "text/html": [
       "<div>\n",
       "<style scoped>\n",
       "    .dataframe tbody tr th:only-of-type {\n",
       "        vertical-align: middle;\n",
       "    }\n",
       "\n",
       "    .dataframe tbody tr th {\n",
       "        vertical-align: top;\n",
       "    }\n",
       "\n",
       "    .dataframe thead th {\n",
       "        text-align: right;\n",
       "    }\n",
       "</style>\n",
       "<table border=\"1\" class=\"dataframe\">\n",
       "  <thead>\n",
       "    <tr style=\"text-align: right;\">\n",
       "      <th></th>\n",
       "      <th>popularity</th>\n",
       "      <th>budget</th>\n",
       "      <th>revenue</th>\n",
       "      <th>original_title</th>\n",
       "      <th>cast</th>\n",
       "      <th>director</th>\n",
       "      <th>runtime</th>\n",
       "      <th>genres</th>\n",
       "      <th>production_companies</th>\n",
       "      <th>release_date</th>\n",
       "      <th>vote_count</th>\n",
       "      <th>vote_average</th>\n",
       "      <th>release_year</th>\n",
       "      <th>budget_adj</th>\n",
       "      <th>revenue_adj</th>\n",
       "      <th>profitability</th>\n",
       "      <th>mm</th>\n",
       "    </tr>\n",
       "  </thead>\n",
       "  <tbody>\n",
       "    <tr>\n",
       "      <th>0</th>\n",
       "      <td>32.985763</td>\n",
       "      <td>150000000</td>\n",
       "      <td>1513528810</td>\n",
       "      <td>Jurassic World</td>\n",
       "      <td>Chris Pratt|Bryce Dallas Howard|Irrfan Khan|Vi...</td>\n",
       "      <td>Colin Trevorrow</td>\n",
       "      <td>124</td>\n",
       "      <td>Action|Adventure|Science Fiction|Thriller</td>\n",
       "      <td>Universal Studios|Amblin Entertainment|Legenda...</td>\n",
       "      <td>2015-06-09</td>\n",
       "      <td>5562</td>\n",
       "      <td>6.5</td>\n",
       "      <td>2015</td>\n",
       "      <td>137999939</td>\n",
       "      <td>1392445892</td>\n",
       "      <td>best</td>\n",
       "      <td>6</td>\n",
       "    </tr>\n",
       "    <tr>\n",
       "      <th>1</th>\n",
       "      <td>28.419936</td>\n",
       "      <td>150000000</td>\n",
       "      <td>378436354</td>\n",
       "      <td>Mad Max: Fury Road</td>\n",
       "      <td>Tom Hardy|Charlize Theron|Hugh Keays-Byrne|Nic...</td>\n",
       "      <td>George Miller</td>\n",
       "      <td>120</td>\n",
       "      <td>Action|Adventure|Science Fiction|Thriller</td>\n",
       "      <td>Village Roadshow Pictures|Kennedy Miller Produ...</td>\n",
       "      <td>2015-05-13</td>\n",
       "      <td>6185</td>\n",
       "      <td>7.1</td>\n",
       "      <td>2015</td>\n",
       "      <td>137999939</td>\n",
       "      <td>348161292</td>\n",
       "      <td>best</td>\n",
       "      <td>5</td>\n",
       "    </tr>\n",
       "    <tr>\n",
       "      <th>2</th>\n",
       "      <td>13.112507</td>\n",
       "      <td>110000000</td>\n",
       "      <td>295238201</td>\n",
       "      <td>Insurgent</td>\n",
       "      <td>Shailene Woodley|Theo James|Kate Winslet|Ansel...</td>\n",
       "      <td>Robert Schwentke</td>\n",
       "      <td>119</td>\n",
       "      <td>Adventure|Science Fiction|Thriller</td>\n",
       "      <td>Summit Entertainment|Mandeville Films|Red Wago...</td>\n",
       "      <td>2015-03-18</td>\n",
       "      <td>2480</td>\n",
       "      <td>6.3</td>\n",
       "      <td>2015</td>\n",
       "      <td>101199955</td>\n",
       "      <td>271619025</td>\n",
       "      <td>best</td>\n",
       "      <td>3</td>\n",
       "    </tr>\n",
       "    <tr>\n",
       "      <th>3</th>\n",
       "      <td>11.173104</td>\n",
       "      <td>200000000</td>\n",
       "      <td>2068178225</td>\n",
       "      <td>Star Wars: The Force Awakens</td>\n",
       "      <td>Harrison Ford|Mark Hamill|Carrie Fisher|Adam D...</td>\n",
       "      <td>J.J. Abrams</td>\n",
       "      <td>136</td>\n",
       "      <td>Action|Adventure|Science Fiction|Fantasy</td>\n",
       "      <td>Lucasfilm|Truenorth Productions|Bad Robot</td>\n",
       "      <td>2015-12-15</td>\n",
       "      <td>5292</td>\n",
       "      <td>7.5</td>\n",
       "      <td>2015</td>\n",
       "      <td>183999919</td>\n",
       "      <td>1902723129</td>\n",
       "      <td>best</td>\n",
       "      <td>12</td>\n",
       "    </tr>\n",
       "    <tr>\n",
       "      <th>4</th>\n",
       "      <td>9.335014</td>\n",
       "      <td>190000000</td>\n",
       "      <td>1506249360</td>\n",
       "      <td>Furious 7</td>\n",
       "      <td>Vin Diesel|Paul Walker|Jason Statham|Michelle ...</td>\n",
       "      <td>James Wan</td>\n",
       "      <td>137</td>\n",
       "      <td>Action|Crime|Thriller</td>\n",
       "      <td>Universal Pictures|Original Film|Media Rights ...</td>\n",
       "      <td>2015-04-01</td>\n",
       "      <td>2947</td>\n",
       "      <td>7.3</td>\n",
       "      <td>2015</td>\n",
       "      <td>174799923</td>\n",
       "      <td>1385748801</td>\n",
       "      <td>best</td>\n",
       "      <td>4</td>\n",
       "    </tr>\n",
       "  </tbody>\n",
       "</table>\n",
       "</div>"
      ],
      "text/plain": [
       "   popularity     budget     revenue                original_title  \\\n",
       "0   32.985763  150000000  1513528810                Jurassic World   \n",
       "1   28.419936  150000000   378436354            Mad Max: Fury Road   \n",
       "2   13.112507  110000000   295238201                     Insurgent   \n",
       "3   11.173104  200000000  2068178225  Star Wars: The Force Awakens   \n",
       "4    9.335014  190000000  1506249360                     Furious 7   \n",
       "\n",
       "                                                cast          director  \\\n",
       "0  Chris Pratt|Bryce Dallas Howard|Irrfan Khan|Vi...   Colin Trevorrow   \n",
       "1  Tom Hardy|Charlize Theron|Hugh Keays-Byrne|Nic...     George Miller   \n",
       "2  Shailene Woodley|Theo James|Kate Winslet|Ansel...  Robert Schwentke   \n",
       "3  Harrison Ford|Mark Hamill|Carrie Fisher|Adam D...       J.J. Abrams   \n",
       "4  Vin Diesel|Paul Walker|Jason Statham|Michelle ...         James Wan   \n",
       "\n",
       "   runtime                                     genres  \\\n",
       "0      124  Action|Adventure|Science Fiction|Thriller   \n",
       "1      120  Action|Adventure|Science Fiction|Thriller   \n",
       "2      119         Adventure|Science Fiction|Thriller   \n",
       "3      136   Action|Adventure|Science Fiction|Fantasy   \n",
       "4      137                      Action|Crime|Thriller   \n",
       "\n",
       "                                production_companies release_date  vote_count  \\\n",
       "0  Universal Studios|Amblin Entertainment|Legenda...   2015-06-09        5562   \n",
       "1  Village Roadshow Pictures|Kennedy Miller Produ...   2015-05-13        6185   \n",
       "2  Summit Entertainment|Mandeville Films|Red Wago...   2015-03-18        2480   \n",
       "3          Lucasfilm|Truenorth Productions|Bad Robot   2015-12-15        5292   \n",
       "4  Universal Pictures|Original Film|Media Rights ...   2015-04-01        2947   \n",
       "\n",
       "   vote_average  release_year  budget_adj  revenue_adj profitability  mm  \n",
       "0           6.5          2015   137999939   1392445892          best   6  \n",
       "1           7.1          2015   137999939    348161292          best   5  \n",
       "2           6.3          2015   101199955    271619025          best   3  \n",
       "3           7.5          2015   183999919   1902723129          best  12  \n",
       "4           7.3          2015   174799923   1385748801          best   4  "
      ]
     },
     "execution_count": 469,
     "metadata": {},
     "output_type": "execute_result"
    }
   ],
   "source": [
    "movies_df.head()"
   ]
  },
  {
   "cell_type": "code",
   "execution_count": 482,
   "metadata": {},
   "outputs": [],
   "source": [
    "# Calculates the sum of vote counts realized each month of the year\n",
    "movies_df_votes_per_month=movies_df.groupby('month')['vote_count'].sum()"
   ]
  },
  {
   "cell_type": "code",
   "execution_count": 483,
   "metadata": {},
   "outputs": [
    {
     "name": "stdout",
     "output_type": "stream",
     "text": [
      "month\n",
      "1      82713\n",
      "2      98659\n",
      "3     156767\n",
      "4     128197\n",
      "5     219166\n",
      "6     245506\n",
      "7     209740\n",
      "8     122154\n",
      "9     169706\n",
      "10    180000\n",
      "11    186188\n",
      "12    233789\n",
      "Name: vote_count, dtype: int64\n"
     ]
    }
   ],
   "source": [
    "print(movies_df_votes_per_month)"
   ]
  },
  {
   "cell_type": "code",
   "execution_count": 484,
   "metadata": {},
   "outputs": [
    {
     "data": {
      "image/png": "[encoded data removed]",
      "text/plain": [
       "<Figure size 432x288 with 1 Axes>"
      ]
     },
     "metadata": {
      "needs_background": "light"
     },
     "output_type": "display_data"
    }
   ],
   "source": [
    "# Plots the sum of vote counts for each month\n",
    "movies_df_votes_per_month=movies_df.groupby('month')['vote_count'].sum().plot(kind='bar');"
   ]
  },
  {
   "cell_type": "markdown",
   "metadata": {},
   "source": [
    "The months where there is a clear peak of voting are months 5,6,7 and 12 of the year.\n",
    "\n",
    "Let's see if it is the same for 'best' movies category:"
   ]
  },
  {
   "cell_type": "code",
   "execution_count": null,
   "metadata": {},
   "outputs": [],
   "source": [
    "#Creates a new column called 'month' which contains only month of release of the movies\n",
    "movies_df_best['month'] = pd.to_datetime(movies_df_best['release_date']).dt.month"
   ]
  },
  {
   "cell_type": "code",
   "execution_count": 493,
   "metadata": {},
   "outputs": [],
   "source": [
    "movies_df_best_votes_per_month=movies_df_best.groupby('month')['vote_count'].sum()"
   ]
  },
  {
   "cell_type": "code",
   "execution_count": 494,
   "metadata": {},
   "outputs": [
    {
     "name": "stdout",
     "output_type": "stream",
     "text": [
      "month\n",
      "1      57313\n",
      "2      71533\n",
      "3     124733\n",
      "4      98151\n",
      "5     183292\n",
      "6     206734\n",
      "7     178604\n",
      "8      84872\n",
      "9     105187\n",
      "10    135662\n",
      "11    157471\n",
      "12    195799\n",
      "Name: vote_count, dtype: int64\n"
     ]
    }
   ],
   "source": [
    "print(movies_df_best_votes_per_month)"
   ]
  },
  {
   "cell_type": "code",
   "execution_count": 491,
   "metadata": {},
   "outputs": [
    {
     "data": {
      "image/png": "[encoded data removed]",
      "text/plain": [
       "<Figure size 432x288 with 1 Axes>"
      ]
     },
     "metadata": {
      "needs_background": "light"
     },
     "output_type": "display_data"
    }
   ],
   "source": [
    "# Plots the sum of vote counts of best movies for each month \n",
    "movies_df_best_votes_per_month=movies_df_best.groupby('month')['vote_count'].sum().plot(kind='bar');"
   ]
  },
  {
   "cell_type": "markdown",
   "metadata": {},
   "source": [
    "It's also the same as for the dataframe of the whole movies, the months where there is a clear peak of voting in the 'best' movies category are months 5,6,7 and 12 of the year. May be in those months people watch Movies more than the other months."
   ]
  },
  {
   "cell_type": "markdown",
   "metadata": {},
   "source": [
    "<a id='conclusions'></a>\n",
    "## Conclusions\n"
   ]
  },
  {
   "cell_type": "markdown",
   "metadata": {},
   "source": [
    "Although we are not sure that this data is updated and totally correct, this analysis of TMDb dataset gave us some insights\n",
    "we might be looking at in order to increase the probability of a movie to double it's budget in revenue and be successful:\n",
    "\n",
    "1. Have one of these directors: Steven Spielberg, Clint Eastwood, Tim Burton or Woody Allen\n",
    "2. Have at least one of these actors: Tom Cruise, Tom Hanks, Robert De Niro, Brad Pitt, Samuel L. Jackson\n",
    "3. Must be categorized at least in one of these genres : Drama, Comedy, Thriller, Adventure\n",
    "4. Must be produced by one of these production companies: Universal Pictures, Warner Bros, Paramount Pictures, Twentieth Century Fox Film Corporation, Columbia Pictures.\n",
    "5. Have a mean runtime of 110.125186 minutes, and\n",
    "6. Release it in one of the months: 5,6,7 or 12 to have most possible interaction with the audience.\n",
    "\n",
    "\n",
    "Eventually, I want to emphasize on the fact that this analysis was limited only to the provided dataset which had a lot of missing data and contained movies released up only to 2015. It still needs more analysis and statistical tests in order to be able to give statistical conclusions."
   ]
  }
 ],
 "metadata": {
  "kernelspec": {
   "display_name": "Python 3.8.10 ('udemy_paid_course_env': venv)",
   "language": "python",
   "name": "python3"
  },
  "language_info": {
   "codemirror_mode": {
    "name": "ipython",
    "version": 3
   },
   "file_extension": ".py",
   "mimetype": "text/x-python",
   "name": "python",
   "nbconvert_exporter": "python",
   "pygments_lexer": "ipython3",
   "version": "3.8.10"
  },
  "vscode": {
   "interpreter": {
    "hash": "b6eafa511d5260994885b02300eb71ef77adeb01733703828be9ea02659d78a8"
   }
  }
 },
 "nbformat": 4,
 "nbformat_minor": 2
}
